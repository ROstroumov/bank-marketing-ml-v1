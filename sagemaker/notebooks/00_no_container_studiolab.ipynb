{
 "cells": [
  {
   "cell_type": "code",
   "execution_count": null,
   "id": "177d3e1c",
   "metadata": {},
   "outputs": [],
   "source": [
    "\n",
    "%pip -q install sagemaker==2.219.0 boto3 scikit-learn==1.5.1 pandas\n",
    "\n",
    "import sagemaker, boto3, os, json, pandas as pd\n",
    "from sagemaker.sklearn import SKLearn\n",
    "from sagemaker import get_execution_role\n",
    "\n",
    "\n",
    "session = sagemaker.Session()\n",
    "bucket = session.default_bucket()\n",
    "role = get_execution_role()  \n",
    "prefix = \"bank-marketing-no-container\""
   ]
  },
  {
   "cell_type": "code",
   "execution_count": null,
   "id": "9d0bddc8",
   "metadata": {},
   "outputs": [],
   "source": [
    "\n",
    "BANK_URL = \"https://archive.ics.uci.edu/ml/machine-learning-databases/00222/bank-additional-full.csv\"\n",
    "\n",
    "df = pd.read_csv(BANK_URL, sep=\";\")\n",
    "df.to_csv(\"train.csv\", index=False)\n",
    "\n",
    "\n",
    "train_s3 = session.upload_data(\"train.csv\", bucket=bucket, key_prefix=f\"{prefix}/input/train\")\n",
    "print(\"Training data uploaded to:\", train_s3)"
   ]
  },
  {
   "cell_type": "code",
   "execution_count": null,
   "id": "9b8c31df",
   "metadata": {},
   "outputs": [],
   "source": [
    "estimator = SKLearn(\n",
    "    entry_point=\"train.py\",        \n",
    "    source_dir=\"../src\",           \n",
    "    role=role,\n",
    "    instance_type=\"ml.m5.large\",\n",
    "    framework_version=\"1.2-1\",\n",
    "    py_version=\"py3\",\n",
    "    sagemaker_session=session,\n",
    "    hyperparameters={\"target-col\": \"y\"},   \n",
    ")\n",
    "estimator.fit({\"train\": train_s3})"
   ]
  },
  {
   "cell_type": "code",
   "execution_count": null,
   "id": "8341eab3",
   "metadata": {},
   "outputs": [],
   "source": [
    "predictor = estimator.deploy(\n",
    "    initial_instance_count=1,\n",
    "    instance_type=\"ml.t2.medium\",\n",
    "    entry_point=\"inference.py\",   \n",
    "    source_dir=\"../src\",          \n",
    "    serializer=sagemaker.serializers.JSONSerializer(),\n",
    "    deserializer=sagemaker.deserializers.JSONDeserializer(),\n",
    ")"
   ]
  },
  {
   "cell_type": "code",
   "execution_count": null,
   "id": "26f7f56d",
   "metadata": {},
   "outputs": [],
   "source": [
    "sample = {\n",
    "    \"age\": 30,\n",
    "    \"job\": \"blue-collar\",\n",
    "    \"marital\": \"married\",\n",
    "    \"education\": \"secondary\",\n",
    "    \"default\": \"no\",\n",
    "    \"housing\": \"yes\",\n",
    "    \"loan\": \"no\",\n",
    "    \"contact\": \"cellular\",\n",
    "    \"month\": \"may\",\n",
    "    \"day_of_week\": \"mon\",\n",
    "    \"duration\": 300,\n",
    "    \"campaign\": 1,\n",
    "    \"pdays\": 999,\n",
    "    \"previous\": 0,\n",
    "    \"poutcome\": \"nonexistent\",\n",
    "    \"emp.var.rate\": -1.8,\n",
    "    \"cons.price.idx\": 92.893,\n",
    "    \"cons.conf.idx\": -46.2,\n",
    "    \"euribor3m\": 1.299,\n",
    "    \"nr.employed\": 5099.1\n",
    "}\n",
    "print(\"Sample prediction:\", predictor.predict({\"features\": sample}))"
   ]
  },
  {
   "cell_type": "code",
   "execution_count": null,
   "id": "9bcf899a",
   "metadata": {},
   "outputs": [],
   "source": [
    "predictor.delete_endpoint()"
   ]
  }
 ],
 "metadata": {
  "language_info": {
   "name": "python"
  }
 },
 "nbformat": 4,
 "nbformat_minor": 5
}
