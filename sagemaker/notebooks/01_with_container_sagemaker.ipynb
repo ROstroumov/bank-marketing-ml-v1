{
 "cells": [
  {
   "cell_type": "code",
   "execution_count": null,
   "id": "aa460182",
   "metadata": {},
   "outputs": [],
   "source": [
    "# Install required libraries\n",
    "%pip -q install sagemaker==2.219.0 boto3 pandas\n",
    "\n",
    "import boto3\n",
    "import sagemaker\n",
    "import os\n",
    "import pandas as pd\n",
    "from sagemaker.estimator import Estimator"
   ]
  },
  {
   "cell_type": "code",
   "execution_count": null,
   "id": "5a4dfc82",
   "metadata": {},
   "outputs": [],
   "source": [
    "session = sagemaker.Session()\n",
    "region = session.boto_region_name\n",
    "account = boto3.client(\"sts\").get_caller_identity()[\"Account\"]\n",
    "role = sagemaker.get_execution_role()"
   ]
  },
  {
   "cell_type": "code",
   "execution_count": null,
   "id": "c765697e",
   "metadata": {},
   "outputs": [],
   "source": [
    "repository = \"bank-marketing-custom\"\n",
    "ecr = boto3.client(\"ecr\", region_name=region)\n",
    "\n",
    "\n",
    "try:\n",
    "    ecr.create_repository(repositoryName=repository)\n",
    "except ecr.exceptions.RepositoryAlreadyExistsException:\n",
    "    pass\n",
    "\n",
    "ecr_uri = f\"{account}.dkr.ecr.{region}.amazonaws.com/{repository}:latest\"\n",
    "print(\"ECR URI:\", ecr_uri)"
   ]
  },
  {
   "cell_type": "code",
   "execution_count": null,
   "id": "5553453f",
   "metadata": {},
   "outputs": [],
   "source": [
    "!aws ecr get-login-password --region {region} | docker login --username AWS --password-stdin {account}.dkr.ecr.{region}.amazonaws.com"
   ]
  },
  {
   "cell_type": "code",
   "execution_count": null,
   "id": "10cf5808",
   "metadata": {},
   "outputs": [],
   "source": [
    "!cd sagemaker/custom_container && docker build -t {repository}:latest .\n",
    "!docker tag {repository}:latest {ecr_uri}\n",
    "!docker push {ecr_uri}"
   ]
  },
  {
   "cell_type": "code",
   "execution_count": null,
   "id": "860008fd",
   "metadata": {},
   "outputs": [],
   "source": [
    "DATA_PATH = \"data/bank-additional.csv\"\n",
    "df = pd.read_csv(DATA_PATH, sep=\";\")\n",
    "\n",
    "\n",
    "df['y'] = df['y'].map({'yes': 1, 'no': 0})\n",
    "\n",
    "\n",
    "df.to_csv(\"train.csv\", index=False)\n",
    "\n",
    "bucket = session.default_bucket()\n",
    "prefix = \"bank-marketing-custom\"\n",
    "\n",
    "\n",
    "s3_train = session.upload_data(\"train.csv\", bucket=bucket, key_prefix=f\"{prefix}/input/train\")\n",
    "print(\"S3 Train URI:\", s3_train)"
   ]
  },
  {
   "cell_type": "code",
   "execution_count": null,
   "id": "3bca7e58",
   "metadata": {},
   "outputs": [],
   "source": [
    "est = Estimator(\n",
    "    image_uri=ecr_uri,\n",
    "    role=role,\n",
    "    instance_count=1,\n",
    "    instance_type=\"ml.m5.large\",\n",
    "    sagemaker_session=session,\n",
    "    output_path=f\"s3://{bucket}/{prefix}/output\",\n",
    "    environment={\n",
    "        \"SM_MODEL_DIR\": \"/opt/ml/model\",       \n",
    "        \"SM_CHANNEL_TRAIN\": \"/opt/ml/input/data/train\",\n",
    "    },\n",
    ")\n",
    "\n",
    "\n",
    "est.fit({\"train\": s3_train})\n"
   ]
  }
 ],
 "metadata": {
  "language_info": {
   "name": "python"
  }
 },
 "nbformat": 4,
 "nbformat_minor": 5
}
